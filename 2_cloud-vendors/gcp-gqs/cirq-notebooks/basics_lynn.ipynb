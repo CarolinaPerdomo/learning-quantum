{
  "cells": [
    {
      "cell_type": "markdown",
      "metadata": {
        "id": "Me7G0WVTHwHg"
      },
      "source": [
        "# Cirq basics\n",
        "\n",
        "## Install and Use Cirq"
      ]
    },
    {
      "cell_type": "code",
      "execution_count": 1,
      "metadata": {
        "id": "bd9529db1c0b"
      },
      "outputs": [],
      "source": [
        "try:\n",
        "    import cirq\n",
        "except ImportError:\n",
        "    print(\"installing cirq...\")\n",
        "    %pip install --quiet cirq\n",
        "    print(\"installed cirq.\")"
      ]
    },
    {
      "cell_type": "markdown",
      "source": [
        "## Create and Run a Simple Circuit"
      ],
      "metadata": {
        "id": "Hp6yLDDYl3Vt"
      }
    },
    {
      "cell_type": "code",
      "source": [
        "# Create a qubit\n",
        "qubit = cirq.GridQubit(0, 0)\n",
        "\n",
        "# Create a circuit which calculates the square root of NOT, then measure\n",
        "circuit = cirq.Circuit(\n",
        "  cirq.X(qubit) ** 0.5, cirq.measure(qubit, key='m')  \n",
        ")\n",
        "print(\"Circuit:\")\n",
        "print(circuit)\n",
        "\n",
        "# Simulate the circuit 10 times\n",
        "simulator = cirq.Simulator()\n",
        "result = simulator.run(circuit, repetitions=10)\n",
        "print(\"Results:\")\n",
        "print(result)\n"
      ],
      "metadata": {
        "colab": {
          "base_uri": "https://localhost:8080/"
        },
        "id": "tUPMOZy5kx9Z",
        "outputId": "8d9bbb1a-619c-4897-db2d-78f74a7956af"
      },
      "execution_count": 2,
      "outputs": [
        {
          "output_type": "stream",
          "name": "stdout",
          "text": [
            "Circuit:\n",
            "(0, 0): ───X^0.5───M('m')───\n",
            "Results:\n",
            "m=0111110101\n"
          ]
        }
      ]
    },
    {
      "cell_type": "markdown",
      "source": [
        "## Run and Plot"
      ],
      "metadata": {
        "id": "VjXhqiDy3AfX"
      }
    },
    {
      "cell_type": "code",
      "source": [
        "import matplotlib.pyplot as plt\n",
        "\n",
        "# Create a qubit\n",
        "qubit = cirq.GridQubit(0, 0)\n",
        "\n",
        "# Create a circuit which calculates the square root of NOT, then measure\n",
        "circuit = cirq.Circuit(\n",
        "  cirq.X(qubit) ** 0.5, cirq.measure(qubit, key='m')  \n",
        ")\n",
        "print(\"Circuit:\")\n",
        "print(circuit)\n",
        "\n",
        "# Simulate the circuit 100 times\n",
        "result = cirq.Simulator().run(circuit, repetitions=100)\n",
        "_ = cirq.vis.plot_state_histogram(result, plt.subplot())\n"
      ],
      "metadata": {
        "colab": {
          "base_uri": "https://localhost:8080/",
          "height": 331
        },
        "id": "xCx0xctn3DKQ",
        "outputId": "e5877420-9750-495f-c6c4-57d54d54cdd0"
      },
      "execution_count": 3,
      "outputs": [
        {
          "output_type": "stream",
          "name": "stdout",
          "text": [
            "Circuit:\n",
            "(0, 0): ───X^0.5───M('m')───\n"
          ]
        },
        {
          "output_type": "display_data",
          "data": {
            "text/plain": [
              "<Figure size 432x288 with 1 Axes>"
            ],
            "image/png": "[encoded data removed]"
          },
          "metadata": {
            "needs_background": "light"
          }
        }
      ]
    },
    {
      "cell_type": "markdown",
      "source": [
        "## Use Gates"
      ],
      "metadata": {
        "id": "wmHg6ZfV4vK3"
      }
    },
    {
      "cell_type": "code",
      "source": [
        "# Define three qubits\n",
        "a = cirq.NamedQubit(\"a\")\n",
        "b = cirq.NamedQubit(\"b\")\n",
        "c = cirq.NamedQubit(\"c\")\n",
        "m = cirq.NamedQubit(\"m\")\n",
        "\n",
        "# Define operations\n",
        "ops = [cirq.H(a), cirq.H(b), cirq.CNOT(b,c), cirq.H(b),cirq.measure(b)]\n",
        "\n",
        "# Create and Print circuit\n",
        "circuit = cirq.Circuit(ops) \n",
        "print(\"Circuit:\\n\")\n",
        "print(circuit) \n",
        "\n",
        "# Simulate the circuit 100 times\n",
        "result = cirq.Simulator().run(circuit, repetitions=100)\n",
        "_ = cirq.vis.plot_state_histogram(result, plt.subplot())\n"
      ],
      "metadata": {
        "colab": {
          "base_uri": "https://localhost:8080/",
          "height": 420
        },
        "id": "cJHw-zrQ4yVw",
        "outputId": "9ea3c936-28de-4ff9-8772-46f6c59efaf4"
      },
      "execution_count": 4,
      "outputs": [
        {
          "output_type": "stream",
          "name": "stdout",
          "text": [
            "Circuit:\n",
            "\n",
            "a: ───H───────────────\n",
            "\n",
            "b: ───H───@───H───M───\n",
            "          │\n",
            "c: ───────X───────────\n"
          ]
        },
        {
          "output_type": "display_data",
          "data": {
            "text/plain": [
              "<Figure size 432x288 with 1 Axes>"
            ],
            "image/png": "[encoded data removed]"
          },
          "metadata": {
            "needs_background": "light"
          }
        }
      ]
    }
  ],
  "metadata": {
    "colab": {
      "collapsed_sections": [],
      "name": "basics_lynn.ipynb",
      "provenance": []
    },
    "kernelspec": {
      "display_name": "Python 3",
      "name": "python3"
    }
  },
  "nbformat": 4,
  "nbformat_minor": 0
}