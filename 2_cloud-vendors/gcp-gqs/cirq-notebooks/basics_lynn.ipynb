{
  "cells": [
    {
      "cell_type": "markdown",
      "metadata": {
        "id": "Me7G0WVTHwHg"
      },
      "source": [
        "# Cirq basics"
      ]
    },
    {
      "cell_type": "code",
      "execution_count": 1,
      "metadata": {
        "id": "bd9529db1c0b"
      },
      "outputs": [],
      "source": [
        "try:\n",
        "    import cirq\n",
        "except ImportError:\n",
        "    print(\"installing cirq...\")\n",
        "    %pip install --quiet cirq\n",
        "    print(\"installed cirq.\")"
      ]
    },
    {
      "cell_type": "markdown",
      "metadata": {
        "id": "xr-MMoXgNsUQ"
      },
      "source": [
        "## Qubits\n",
        "\n",
        "The first part of creating a quantum circuit is to define a set of qubits (also known as a quantum registers) to act on. Shown below are some examples of defining each type of qubit."
      ]
    },
    {
      "cell_type": "code",
      "execution_count": 2,
      "metadata": {
        "id": "PsgSo-H0Os8X"
      },
      "outputs": [],
      "source": [
        "import cirq\n",
        "import cirq_google\n",
        "\n",
        "# Using named qubits can be useful for abstract algorithms\n",
        "# as well as algorithms not yet mapped onto hardware.\n",
        "q0 = cirq.NamedQubit('source')\n",
        "q1 = cirq.NamedQubit('target')\n",
        "\n",
        "# Line qubits can be created individually\n",
        "q3 = cirq.LineQubit(3)\n",
        "\n",
        "# Or created in a range\n",
        "# This will create LineQubit(0), LineQubit(1), LineQubit(2)\n",
        "q0, q1, q2 = cirq.LineQubit.range(3)\n",
        "\n",
        "# Grid Qubits can also be referenced individually\n",
        "q4_5 = cirq.GridQubit(4,5)\n",
        "\n",
        "# Or created in bulk in a square\n",
        "# This will create 16 qubits from (0,0) to (3,3)\n",
        "qubits = cirq.GridQubit.square(4)"
      ]
    },
    {
      "cell_type": "markdown",
      "metadata": {
        "id": "4zE6AutyQhQ6"
      },
      "source": [
        "### Devices \n",
        "There are also pre-packaged sets of qubits called [Devices](../devices.md).  These are qubits along with a set of rules of how they can be used.  For our example, we will use the `cirq_google.Foxtail` device that comes with cirq.  It is a 2x11 grid that mimics early hardware released by Google."
      ]
    },
    {
      "cell_type": "code",
      "execution_count": 3,
      "metadata": {
        "id": "B0Dwgu-lQLpq",
        "outputId": "84043f1f-4fbc-487b-b44f-9b00dd5113ad",
        "colab": {
          "base_uri": "https://localhost:8080/"
        }
      },
      "outputs": [
        {
          "output_type": "stream",
          "name": "stdout",
          "text": [
            "(0, 0)───(0, 1)───(0, 2)───(0, 3)───(0, 4)───(0, 5)───(0, 6)───(0, 7)───(0, 8)───(0, 9)───(0, 10)\n",
            "│        │        │        │        │        │        │        │        │        │        │\n",
            "│        │        │        │        │        │        │        │        │        │        │\n",
            "(1, 0)───(1, 1)───(1, 2)───(1, 3)───(1, 4)───(1, 5)───(1, 6)───(1, 7)───(1, 8)───(1, 9)───(1, 10)\n"
          ]
        }
      ],
      "source": [
        "print(cirq_google.Foxtail)"
      ]
    },
    {
      "cell_type": "markdown",
      "metadata": {
        "id": "j1QTjyxLSe5c"
      },
      "source": [
        "## Gates and operations\n",
        "\n",
        "The next step is to use the qubits to create operations that can be used in our circuit.  Cirq has two concepts that are important to understand here:\n",
        "\n",
        "*   A `Gate` is an **effect** that can be applied to a set of qubits.  \n",
        "*   An `Operation` is a **gate** applied to a set of qubits.\n",
        "\n",
        "For instance, `cirq.H` is the quantum [Hadamard](https://en.wikipedia.org/wiki/Quantum_logic_gate#Hadamard_(H)_gate) and is a `Gate` object.  `cirq.H(cirq.LineQubit(1))` is an `Operation` object and is the Hadamard gate applied to a specific qubit (line qubit number 1).\n",
        "\n",
        "Many textbook gates are included within cirq.  `cirq.X`, `cirq.Y`, and `cirq.Z` refer to the single-qubit Pauli gates.  `cirq.CZ`, `cirq.CNOT`, `cirq.SWAP` are a few of the common two-qubit gates.  `cirq.measure` is a macro to apply a `MeasurementGate` to a set of qubits.  You can find more, as well as instructions on how to creats your own custom gates, on the [Gates documentation](../gates.ipynb) page.\n",
        "\n",
        "Many arithmetic operations can also be applied to gates.  Here are some examples:"
      ]
    },
    {
      "cell_type": "code",
      "execution_count": 4,
      "metadata": {
        "id": "wDW-yU-fesDl"
      },
      "outputs": [],
      "source": [
        "# Example gates\n",
        "not_gate = cirq.CNOT\n",
        "pauli_z = cirq.Z\n",
        "\n",
        "# Using exponentiation to get square root gates\n",
        "sqrt_x_gate = cirq.X**0.5\n",
        "\n",
        "# Some gates can also take parameters\n",
        "sqrt_sqrt_y = cirq.YPowGate(exponent=0.25)\n",
        "\n",
        "# Example operations\n",
        "q0, q1 = cirq.LineQubit.range(2)\n",
        "z_op = cirq.Z(q0)\n",
        "not_op = cirq.CNOT(q0, q1)\n",
        "sqrt_iswap_op = cirq.SQRT_ISWAP(q0, q1)"
      ]
    },
    {
      "cell_type": "markdown",
      "metadata": {
        "id": "BnBGLMVvWVkz"
      },
      "source": [
        "## Circuits and moments\n",
        "\n",
        "We are now ready to construct a quantum circuit.  A `Circuit` is a collection of `Moment`s. A `Moment` is a collection of `Operation`s that all act during the same abstract time slice.  Each `Operation` must have a disjoint set of qubits from the other `Operation`s in the `Moment`.  A `Moment` can be thought of as a vertical slice of a quantum circuit diagram.\n",
        "\n",
        "Circuits can be constructed in several different ways.  By default, cirq will attempt to slide your operation into the earliest possible `Moment` when you insert it.\n"
      ]
    },
    {
      "cell_type": "code",
      "execution_count": 5,
      "metadata": {
        "id": "HEuqEZcXkz3Q",
        "outputId": "700fa89d-1e78-4a15-80d4-a4d0bb86face",
        "colab": {
          "base_uri": "https://localhost:8080/"
        }
      },
      "outputs": [
        {
          "output_type": "stream",
          "name": "stdout",
          "text": [
            "0: ───H───\n",
            "\n",
            "1: ───H───\n",
            "\n",
            "2: ───H───\n"
          ]
        }
      ],
      "source": [
        "circuit = cirq.Circuit()\n",
        "# You can create a circuit by appending to it\n",
        "circuit.append(cirq.H(q) for q in cirq.LineQubit.range(3))\n",
        "# All of the gates are put into the same Moment since none overlap\n",
        "print(circuit)"
      ]
    },
    {
      "cell_type": "code",
      "execution_count": 6,
      "metadata": {
        "id": "Lbez4guQl31P",
        "outputId": "8177bd96-aefb-4a2a-f8c7-d1c1ab8b8e83",
        "colab": {
          "base_uri": "https://localhost:8080/"
        }
      },
      "outputs": [
        {
          "output_type": "stream",
          "name": "stdout",
          "text": [
            "0: ───×───────────\n",
            "      │\n",
            "1: ───×───×───────\n",
            "          │\n",
            "2: ───────×───×───\n",
            "              │\n",
            "3: ───────────×───\n"
          ]
        }
      ],
      "source": [
        "# We can also create a circuit directly as well:\n",
        "print(cirq.Circuit(cirq.SWAP(q, q+1) for q in cirq.LineQubit.range(3)))"
      ]
    },
    {
      "cell_type": "markdown",
      "metadata": {
        "id": "3FC9bdlXmShh"
      },
      "source": [
        "Sometimes, you may not want cirq to automatically shift operations all the way to the left.  To construct a circuit without doing this, you can create the circuit moment-by-moment or use a different `InsertStrategy`, explained more in the [Circuit documentation](../circuits.ipynb)."
      ]
    },
    {
      "cell_type": "code",
      "execution_count": 7,
      "metadata": {
        "id": "4AEahodTnYiI",
        "outputId": "f5157b9d-4748-45a0-dd02-50dc6b5dc4ce",
        "colab": {
          "base_uri": "https://localhost:8080/"
        }
      },
      "outputs": [
        {
          "output_type": "stream",
          "name": "stdout",
          "text": [
            "0: ───H───────────\n",
            "\n",
            "1: ───────H───────\n",
            "\n",
            "2: ───────────H───\n"
          ]
        }
      ],
      "source": [
        "# Creates each gate in a separate moment.\n",
        "print(cirq.Circuit(cirq.Moment([cirq.H(q)]) for q in cirq.LineQubit.range(3)))"
      ]
    },
    {
      "cell_type": "markdown",
      "metadata": {
        "id": "j406AKYsobpq"
      },
      "source": [
        "### Circuits and devices\n",
        "\n",
        "One important consideration when using real quantum devices is that there are often hardware constraints on the circuit.  Creating a circuit with a `Device` will allow you to capture some of these requirements.  These `Device` objects will validate the operations you add to the circuit to make sure that no illegal operations are added.\n",
        "\n",
        "Let's look at an example using the Foxtail device."
      ]
    },
    {
      "cell_type": "code",
      "execution_count": 8,
      "metadata": {
        "id": "9UV-dXJOpy8B",
        "outputId": "e72c2946-4090-4c5d-c51b-f5121a08f744",
        "colab": {
          "base_uri": "https://localhost:8080/"
        }
      },
      "outputs": [
        {
          "output_type": "stream",
          "name": "stdout",
          "text": [
            "Unconstrained device:\n",
            "(0, 0): ───@───@───\n",
            "           │   │\n",
            "(0, 1): ───@───┼───\n",
            "               │\n",
            "(0, 2): ───────@───\n",
            "\n",
            "Foxtail device:\n",
            "Not allowed. Non-local interaction: cirq.CZ(cirq.GridQubit(0, 0), cirq.GridQubit(0, 2)).\n"
          ]
        }
      ],
      "source": [
        "q0 = cirq.GridQubit(0, 0)\n",
        "q1 = cirq.GridQubit(0, 1)\n",
        "q2 = cirq.GridQubit(0, 2)\n",
        "adjacent_op = cirq.CZ(q0, q1)\n",
        "nonadjacent_op = cirq.CZ(q0, q2)\n",
        "\n",
        "# This is an unconstrained circuit with no device\n",
        "free_circuit = cirq.Circuit()\n",
        "# Both operations are allowed:\n",
        "free_circuit.append(adjacent_op)\n",
        "free_circuit.append(nonadjacent_op)\n",
        "print('Unconstrained device:')\n",
        "print(free_circuit)\n",
        "print()\n",
        "\n",
        "# This is a circuit on the Foxtail device\n",
        "# only adjacent operations are allowed.\n",
        "print('Foxtail device:')\n",
        "foxtail_circuit = cirq.Circuit(device=cirq_google.Foxtail)\n",
        "foxtail_circuit.append(adjacent_op)\n",
        "try:\n",
        "    # Not allowed, will throw exception\n",
        "    foxtail_circuit.append(nonadjacent_op)\n",
        "except ValueError as e:\n",
        "    print('Not allowed. %s' % e)\n"
      ]
    },
    {
      "cell_type": "markdown",
      "metadata": {
        "id": "xZ68bWEjoMKt"
      },
      "source": [
        "## Simulation\n",
        "\n",
        "The results of the application of a quantum circuit can be calculated by a `Simulator`.  Cirq comes bundled with a simulator that can calculate the results of circuits up to about a limit of 20 qubits.  It can be initialized with `cirq.Simulator()`.\n",
        "\n",
        "There are two different approaches to using a simulator:\n",
        "\n",
        "*   `simulate()`:  Since we are classically simulating a circuit, a simulator can directly access and view the resulting wave function.  This is useful for debugging, learning, and understanding how circuits will function.  \n",
        "*   `run()`:  When using actual quantum devices, we can only access the end result of a computation and must sample the results to get a distribution of results.  Running the simulator as a sampler mimics this behavior and only returns bit strings as output.\n",
        "\n",
        "Let's try to simulate a 2-qubit \"Bell State\":"
      ]
    },
    {
      "cell_type": "code",
      "execution_count": 9,
      "metadata": {
        "id": "AwC4SL6CHpXm",
        "outputId": "d84848e8-d37e-458c-b3ae-9f18926ccfe9",
        "colab": {
          "base_uri": "https://localhost:8080/"
        }
      },
      "outputs": [
        {
          "output_type": "stream",
          "name": "stdout",
          "text": [
            "Simulate the circuit:\n",
            "measurements: (no measurements)\n",
            "output vector: 0.707|00⟩ + 0.707|11⟩\n",
            "\n",
            "Sample the circuit:\n",
            "Counter({3: 521, 0: 479})\n"
          ]
        }
      ],
      "source": [
        "# Create a circuit to generate a Bell State:\n",
        "# 1/sqrt(2) * ( |00⟩ + |11⟩ )\n",
        "bell_circuit = cirq.Circuit()\n",
        "q0, q1 = cirq.LineQubit.range(2)\n",
        "bell_circuit.append(cirq.H(q0))\n",
        "bell_circuit.append(cirq.CNOT(q0,q1))\n",
        "\n",
        "# Initialize Simulator\n",
        "s=cirq.Simulator()\n",
        "\n",
        "print('Simulate the circuit:')\n",
        "results=s.simulate(bell_circuit)\n",
        "print(results)\n",
        "print()\n",
        "\n",
        "# For sampling, we need to add a measurement at the end\n",
        "bell_circuit.append(cirq.measure(q0, q1, key='result'))\n",
        "\n",
        "print('Sample the circuit:')\n",
        "samples=s.run(bell_circuit, repetitions=1000)\n",
        "# Print a histogram of results\n",
        "print(samples.histogram(key='result'))"
      ]
    },
    {
      "cell_type": "markdown",
      "metadata": {
        "id": "06Q_7vlQSu4Z"
      },
      "source": [
        "### Using parameter sweeps\n",
        "\n",
        "Cirq circuits allow for gates to have symbols as free parameters within the circuit.  This is especially useful for variational algorithms, which vary parameters within the circuit in order to optimize a cost function, but it can be useful in a variety of circumstances.\n",
        "\n",
        "For parameters, cirq uses the library `sympy` to add `sympy.Symbol` as parameters to gates and operations.  \n",
        "\n",
        "Once the circuit is complete, you can fill in the possible values of each of these parameters with a `Sweep`.  There are several possibilities that can be used as a sweep:\n",
        "\n",
        "*   `cirq.Points`: A list of manually specified values for one specific symbol as a sequence of floats\n",
        "*   `cirq.Linspace`: A linear sweep from a starting value to an ending value.\n",
        "*   `cirq.ListSweep`: A list of manually specified values for several different symbols, specified as a list of dictionaries.\n",
        "*   `cirq.Zip` and `cirq.Product`: Sweeps can be combined list-wise by zipping them together or through their Cartesian product.\n",
        "\n",
        "A parameterized circuit and sweep together can be run using the simulator or other sampler by changing `run()` to `run_sweep()` and adding the sweep as a parameter.\n",
        "\n",
        "Here is an example of sweeping an exponent of a X gate:"
      ]
    },
    {
      "cell_type": "code",
      "execution_count": 10,
      "metadata": {
        "id": "ElyizofbLGq9",
        "outputId": "b4b23e47-2310-470a-b3da-591d3cc636de",
        "colab": {
          "base_uri": "https://localhost:8080/",
          "height": 283
        }
      },
      "outputs": [
        {
          "output_type": "execute_result",
          "data": {
            "text/plain": [
              "<matplotlib.collections.PathCollection at 0x7f514d6f18d0>"
            ]
          },
          "metadata": {},
          "execution_count": 10
        },
        {
          "output_type": "display_data",
          "data": {
            "text/plain": [
              "<Figure size 432x288 with 1 Axes>"
            ],
            "image/png": "[encoded data removed]"
          },
          "metadata": {
            "needs_background": "light"
          }
        }
      ],
      "source": [
        "import matplotlib.pyplot as plt\n",
        "import sympy\n",
        "\n",
        "# Perform an X gate with variable exponent\n",
        "q = cirq.GridQubit(1,1)\n",
        "circuit = cirq.Circuit(cirq.X(q) ** sympy.Symbol('t'),\n",
        "                       cirq.measure(q, key='m'))\n",
        "\n",
        "# Sweep exponent from zero (off) to one (on) and back to two (off)\n",
        "param_sweep = cirq.Linspace('t', start=0, stop=2, length=200)\n",
        "\n",
        "# Simulate the sweep\n",
        "s = cirq.Simulator()\n",
        "trials = s.run_sweep(circuit, param_sweep, repetitions=1000)\n",
        "\n",
        "# Plot all the results\n",
        "x_data = [trial.params['t'] for trial in trials]\n",
        "y_data = [trial.histogram(key='m')[1] / 1000.0 for trial in trials]\n",
        "plt.scatter('t','p', data={'t': x_data, 'p': y_data})\n"
      ]
    },
    {
      "cell_type": "markdown",
      "metadata": {
        "id": "M8oLYwusz4XE"
      },
      "source": [
        "## Unitary matrices and decompositions\n",
        "\n",
        "Most quantum operations have a unitary matrix representation.  This matrix can be accessed by applying `cirq.unitary()`.  This can be applied to gates, operations, and circuits that support this protocol and will return the unitary matrix that represents the object."
      ]
    },
    {
      "cell_type": "code",
      "execution_count": 11,
      "metadata": {
        "id": "xn9nnBA70s23",
        "outputId": "0b631d23-83dc-4a97-ec32-6768625a20f4",
        "colab": {
          "base_uri": "https://localhost:8080/"
        }
      },
      "outputs": [
        {
          "output_type": "stream",
          "name": "stdout",
          "text": [
            "Unitary of the X gate\n",
            "[[0.+0.j 1.+0.j]\n",
            " [1.+0.j 0.+0.j]]\n",
            "Unitary of SWAP operator on two qubits.\n",
            "[[1.+0.j 0.+0.j 0.+0.j 0.+0.j]\n",
            " [0.+0.j 0.+0.j 1.+0.j 0.+0.j]\n",
            " [0.+0.j 1.+0.j 0.+0.j 0.+0.j]\n",
            " [0.+0.j 0.+0.j 0.+0.j 1.+0.j]]\n",
            "Unitary of a sample circuit\n",
            "[[0.+0.j 0.+0.j 1.+0.j 0.+0.j]\n",
            " [1.+0.j 0.+0.j 0.+0.j 0.+0.j]\n",
            " [0.+0.j 0.+0.j 0.+0.j 1.+0.j]\n",
            " [0.+0.j 1.+0.j 0.+0.j 0.+0.j]]\n"
          ]
        }
      ],
      "source": [
        "print('Unitary of the X gate')\n",
        "print(cirq.unitary(cirq.X))\n",
        "\n",
        "print('Unitary of SWAP operator on two qubits.')\n",
        "q0, q1 = cirq.LineQubit.range(2)\n",
        "print(cirq.unitary(cirq.SWAP(q0, q1)))\n",
        "\n",
        "print('Unitary of a sample circuit')\n",
        "print(cirq.unitary(cirq.Circuit(cirq.X(q0), cirq.SWAP(q0, q1))))"
      ]
    },
    {
      "cell_type": "markdown",
      "metadata": {
        "id": "Ls6Tnx90Y94Q"
      },
      "source": [
        "### Decompositions \n",
        "\n",
        "Many gates can be decomposed into an equivalent circuit with simpler operations and gates.  This is called decomposition and can be accomplished with the `cirq.decompose` protocol.  \n",
        "\n",
        "For instance, a Hadamard H gate can be decomposed into X and Y gates:"
      ]
    },
    {
      "cell_type": "code",
      "execution_count": 12,
      "metadata": {
        "id": "u8JwZaAUfbSv",
        "outputId": "154c4121-f721-49b2-87c2-9d8a04d24d92",
        "colab": {
          "base_uri": "https://localhost:8080/"
        }
      },
      "outputs": [
        {
          "output_type": "stream",
          "name": "stdout",
          "text": [
            "[(cirq.Y**0.5).on(cirq.LineQubit(0)), cirq.XPowGate(exponent=1.0, global_shift=-0.25).on(cirq.LineQubit(0))]\n"
          ]
        }
      ],
      "source": [
        "print(cirq.decompose(cirq.H(cirq.LineQubit(0))))"
      ]
    },
    {
      "cell_type": "markdown",
      "metadata": {
        "id": "B8ciZZSSf2jb"
      },
      "source": [
        "Another example is the 3-qubit Toffoli gate, which is equivalent to a controlled-controlled-X gate.  Many devices do not support a three qubit gate, so it is important "
      ]
    },
    {
      "cell_type": "code",
      "execution_count": 13,
      "metadata": {
        "id": "bbjRWlzjgPwf",
        "outputId": "e6afd055-4073-496e-893b-7de18e121c24",
        "colab": {
          "base_uri": "https://localhost:8080/"
        }
      },
      "outputs": [
        {
          "output_type": "stream",
          "name": "stdout",
          "text": [
            "0: ───T────────────────@─────────────────────────────────@─────────────────────────────@────────────────────────────@───────────────────────────────────────\n",
            "                       │                                 │                             │                            │\n",
            "1: ───T───────Y^-0.5───@───Y^0.5────@───T^-1────Y^-0.5───@────────Y^0.5───@───Y^-0.5───@──────Y^0.5────@───Y^-0.5───@──────Y^0.5────@───────────────────────\n",
            "                                    │                                     │                            │                            │\n",
            "2: ───Y^0.5───X────────T───Y^-0.5───@───Y^0.5───T────────Y^-0.5───────────@───Y^0.5────T^-1───Y^-0.5───@───Y^0.5────T^-1───Y^-0.5───@───Y^0.5───Y^0.5───X───\n"
          ]
        }
      ],
      "source": [
        "q0, q1, q2 = cirq.LineQubit.range(3)\n",
        "print(cirq.Circuit(cirq.decompose(cirq.TOFFOLI(q0, q1, q2))))"
      ]
    },
    {
      "cell_type": "markdown",
      "metadata": {
        "id": "VWcik4ZwggXj"
      },
      "source": [
        "The above decomposes the Toffoli into a simpler set of one-qubit gates and CZ gates at the cost of lengthening the circuit considerably.\n",
        "\n",
        "Some devices will automatically decompose gates that they do not support.  For instance, if we use the `Foxtail` device from above, we can see this in action by adding an unsupported SWAP gate:"
      ]
    },
    {
      "cell_type": "code",
      "execution_count": 14,
      "metadata": {
        "id": "oS7vWnuHjLhE",
        "outputId": "557a5dde-0a0b-4bef-8c74-38b32ee3ca7e",
        "colab": {
          "base_uri": "https://localhost:8080/"
        }
      },
      "outputs": [
        {
          "output_type": "stream",
          "name": "stdout",
          "text": [
            "(0, 0): ───S^-1───Y^-0.5───@───S^-1───Y^0.5───X^0.5───@───S^-1───X^-0.5───@───S^-1───Z───\n",
            "                           │                          │                   │\n",
            "(0, 1): ───Z──────Y^-0.5───@───S^-1───Y^0.5───X^0.5───@───S^-1───X^-0.5───@───S^-1───S───\n"
          ]
        }
      ],
      "source": [
        "swap = cirq.SWAP(cirq.GridQubit(0, 0), cirq.GridQubit(0, 1))\n",
        "print(cirq.Circuit(swap, device=cirq_google.Foxtail))"
      ]
    },
    {
      "cell_type": "markdown",
      "metadata": {
        "id": "8QbTGmKlYT4i"
      },
      "source": [
        "## Next steps\n",
        "\n",
        "After completing this tutorial, you should be able to use gates and operations to construct your own quantum circuits, simulate them, and to use sweeps.  It should give you a brief idea of the commonly used \n",
        "\n",
        "There is much more to learn and try out for those who are interested:\n",
        "\n",
        "* Learn about the variety of [Gates](../gates.ipynb) available in cirq and more about the different ways to construct [Circuits](../circuits.ipynb)\n",
        "* Learn more about [Simulations](../simulation.ipynb) and how it works.\n",
        "* Learn about [Noise](../noise.ipynb) and how to utilize multi-level systems using [Qudits](../qudits.ipynb)\n",
        "* Dive into some [Examples](_index.yaml) and some in-depth tutorials of how to use cirq.\n",
        "\n",
        "Also, join our [cirq-announce mailing list](https://groups.google.com/forum/#!forum/cirq-announce) to hear about changes and releases or go to the [cirq github](https://github.com/quantumlib/Cirq/) to file issues."
      ]
    },
    {
      "cell_type": "markdown",
      "metadata": {
        "id": "7FV_m2u2Hny8"
      },
      "source": [
        "##### Copyright 2020 The Cirq Developers"
      ]
    },
    {
      "cell_type": "code",
      "execution_count": 15,
      "metadata": {
        "cellView": "form",
        "id": "2XSh1-J7HrcU"
      },
      "outputs": [],
      "source": [
        "#@title Licensed under the Apache License, Version 2.0 (the \"License\");\n",
        "# you may not use this file except in compliance with the License.\n",
        "# You may obtain a copy of the License at\n",
        "#\n",
        "# https://www.apache.org/licenses/LICENSE-2.0\n",
        "#\n",
        "# Unless required by applicable law or agreed to in writing, software\n",
        "# distributed under the License is distributed on an \"AS IS\" BASIS,\n",
        "# WITHOUT WARRANTIES OR CONDITIONS OF ANY KIND, either express or implied.\n",
        "# See the License for the specific language governing permissions and\n",
        "# limitations under the License."
      ]
    }
  ],
  "metadata": {
    "colab": {
      "collapsed_sections": [
        "7FV_m2u2Hny8"
      ],
      "name": "basics_lynn.ipynb",
      "provenance": []
    },
    "kernelspec": {
      "display_name": "Python 3",
      "name": "python3"
    }
  },
  "nbformat": 4,
  "nbformat_minor": 0
}