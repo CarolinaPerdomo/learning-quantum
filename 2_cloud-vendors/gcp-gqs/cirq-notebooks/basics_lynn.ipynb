{
  "cells": [
    {
      "cell_type": "markdown",
      "metadata": {
        "id": "Me7G0WVTHwHg"
      },
      "source": [
        "# Cirq basics\n",
        "\n",
        "## Install and Use Cirq"
      ]
    },
    {
      "cell_type": "code",
      "execution_count": 1,
      "metadata": {
        "id": "bd9529db1c0b"
      },
      "outputs": [],
      "source": [
        "try:\n",
        "    import cirq\n",
        "except ImportError:\n",
        "    print(\"installing cirq...\")\n",
        "    %pip install --quiet cirq\n",
        "    print(\"installed cirq.\")"
      ]
    },
    {
      "cell_type": "markdown",
      "source": [
        "## Create & Run a Simple Circuit / NOT"
      ],
      "metadata": {
        "id": "jjTrbV4S87uD"
      }
    },
    {
      "cell_type": "code",
      "source": [
        "import cirq\n",
        "\n",
        "# Create a qubit\n",
        "q = cirq.NamedQubit(\"one\")\n",
        "\n",
        "# Create a circuit and NOT it, then measure\n",
        "circuit = cirq.Circuit(cirq.X(q), cirq.measure(q, key='m')  )\n",
        "print(\"Circuit:\")\n",
        "print(circuit)\n",
        "\n",
        "# Simulate the circuit 10 times\n",
        "simulator = cirq.Simulator()\n",
        "result = simulator.run(circuit, repetitions=10)\n",
        "print(\"Results:\")\n",
        "print(result)"
      ],
      "metadata": {
        "colab": {
          "base_uri": "https://localhost:8080/"
        },
        "id": "3bp2SGTB9BKl",
        "outputId": "e9d69aef-ca42-4343-ecbc-32f0c498cf4b"
      },
      "execution_count": 9,
      "outputs": [
        {
          "output_type": "stream",
          "name": "stdout",
          "text": [
            "Circuit:\n",
            "one: ───X───M('m')───\n",
            "Results:\n",
            "m=1111111111\n"
          ]
        }
      ]
    },
    {
      "cell_type": "markdown",
      "source": [
        "## Create & Run a Circuit / H"
      ],
      "metadata": {
        "id": "Hp6yLDDYl3Vt"
      }
    },
    {
      "cell_type": "code",
      "source": [
        "qubit = cirq.GridQubit(0, 0)\n",
        "\n",
        "# Create a circuit which puts a qubit into superposition using H, then measure\n",
        "circuit = cirq.Circuit(cirq.H(qubit), cirq.measure(qubit, key='m')  )\n",
        "print(\"Circuit:\")\n",
        "print(circuit)\n",
        "\n",
        "# Simulate the circuit 10 times\n",
        "simulator = cirq.Simulator()\n",
        "result = simulator.run(circuit, repetitions=10)\n",
        "print(\"Results:\")\n",
        "print(result)\n"
      ],
      "metadata": {
        "colab": {
          "base_uri": "https://localhost:8080/"
        },
        "id": "tUPMOZy5kx9Z",
        "outputId": "3e171ab6-30a9-4b83-93ed-436a508d8dd8"
      },
      "execution_count": 3,
      "outputs": [
        {
          "output_type": "stream",
          "name": "stdout",
          "text": [
            "Circuit:\n",
            "(0, 0): ───H───M('m')───\n",
            "Results:\n",
            "m=1101110100\n"
          ]
        }
      ]
    },
    {
      "cell_type": "markdown",
      "source": [
        "## Run and Plot"
      ],
      "metadata": {
        "id": "VjXhqiDy3AfX"
      }
    },
    {
      "cell_type": "code",
      "source": [
        "import matplotlib.pyplot as plt\n",
        "\n",
        "qubit = cirq.GridQubit(0, 0)\n",
        "\n",
        "# Create a circuit which puts a qubit into superposition using H, then measure\n",
        "ops = [cirq.H(qubit), cirq.measure(qubit, key='m')]\n",
        "circuit = cirq.Circuit(ops)\n",
        "print(\"Circuit:\")\n",
        "print(circuit)\n",
        "\n",
        "# Simulate the circuit 100 times\n",
        "result = cirq.Simulator().run(circuit, repetitions=100)\n",
        "_ = cirq.vis.plot_state_histogram(result, plt.subplot())\n"
      ],
      "metadata": {
        "colab": {
          "base_uri": "https://localhost:8080/",
          "height": 331
        },
        "id": "xCx0xctn3DKQ",
        "outputId": "c0979525-0397-4bf8-e26e-a9f8fd605edf"
      },
      "execution_count": 4,
      "outputs": [
        {
          "output_type": "stream",
          "name": "stdout",
          "text": [
            "Circuit:\n",
            "(0, 0): ───H───M('m')───\n"
          ]
        },
        {
          "output_type": "display_data",
          "data": {
            "text/plain": [
              "<Figure size 432x288 with 1 Axes>"
            ],
            "image/png": "[encoded data removed]"
          },
          "metadata": {
            "needs_background": "light"
          }
        }
      ]
    },
    {
      "cell_type": "markdown",
      "source": [
        "## Use Gates"
      ],
      "metadata": {
        "id": "wmHg6ZfV4vK3"
      }
    },
    {
      "cell_type": "code",
      "source": [
        "# Define three qubits\n",
        "a = cirq.NamedQubit(\"a\")\n",
        "b = cirq.NamedQubit(\"b\")\n",
        "c = cirq.NamedQubit(\"c\")\n",
        "m = cirq.NamedQubit(\"m\")\n",
        "\n",
        "ops = [cirq.H(a), cirq.H(b), cirq.CNOT(b,c), cirq.H(b),cirq.measure(b)]\n",
        "circuit = cirq.Circuit(ops) \n",
        "print(\"Circuit:\\n\")\n",
        "print(circuit) \n",
        "\n",
        "# Simulate the circuit 100 times\n",
        "result = cirq.Simulator().run(circuit, repetitions=100)\n",
        "_ = cirq.vis.plot_state_histogram(result, plt.subplot())\n"
      ],
      "metadata": {
        "colab": {
          "base_uri": "https://localhost:8080/",
          "height": 420
        },
        "id": "cJHw-zrQ4yVw",
        "outputId": "43c2a517-5f38-4281-8967-f9ca2e73f0fe"
      },
      "execution_count": 5,
      "outputs": [
        {
          "output_type": "stream",
          "name": "stdout",
          "text": [
            "Circuit:\n",
            "\n",
            "a: ───H───────────────\n",
            "\n",
            "b: ───H───@───H───M───\n",
            "          │\n",
            "c: ───────X───────────\n"
          ]
        },
        {
          "output_type": "display_data",
          "data": {
            "text/plain": [
              "<Figure size 432x288 with 1 Axes>"
            ],
            "image/png": "[encoded data removed]"
          },
          "metadata": {
            "needs_background": "light"
          }
        }
      ]
    }
  ],
  "metadata": {
    "colab": {
      "collapsed_sections": [],
      "name": "basics_lynn.ipynb",
      "provenance": []
    },
    "kernelspec": {
      "display_name": "Python 3",
      "name": "python3"
    }
  },
  "nbformat": 4,
  "nbformat_minor": 0
}