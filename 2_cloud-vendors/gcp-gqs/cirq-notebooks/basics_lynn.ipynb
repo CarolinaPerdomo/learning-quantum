{
  "cells": [
    {
      "cell_type": "markdown",
      "metadata": {
        "id": "Me7G0WVTHwHg"
      },
      "source": [
        "# Cirq basics\n",
        "\n",
        "## Install and Use Cirq"
      ]
    },
    {
      "cell_type": "code",
      "execution_count": 1,
      "metadata": {
        "id": "bd9529db1c0b",
        "colab": {
          "base_uri": "https://localhost:8080/"
        },
        "outputId": "7b18fec8-b8c3-4b5d-bf98-c2f6b41ffb08"
      },
      "outputs": [
        {
          "output_type": "stream",
          "name": "stdout",
          "text": [
            "installing cirq...\n",
            "\u001b[K     |████████████████████████████████| 47 kB 806 kB/s \n",
            "\u001b[K     |████████████████████████████████| 55 kB 564 kB/s \n",
            "\u001b[K     |████████████████████████████████| 437 kB 14.8 MB/s \n",
            "\u001b[K     |████████████████████████████████| 328 kB 40.1 MB/s \n",
            "\u001b[K     |████████████████████████████████| 1.6 MB 52.1 MB/s \n",
            "\u001b[K     |████████████████████████████████| 220 kB 55.3 MB/s \n",
            "\u001b[K     |████████████████████████████████| 10.1 MB 43.7 MB/s \n",
            "\u001b[K     |████████████████████████████████| 53 kB 1.8 MB/s \n",
            "\u001b[K     |████████████████████████████████| 49 kB 4.6 MB/s \n",
            "\u001b[K     |████████████████████████████████| 145 kB 48.7 MB/s \n",
            "\u001b[K     |████████████████████████████████| 65 kB 3.1 MB/s \n",
            "\u001b[K     |████████████████████████████████| 97 kB 6.0 MB/s \n",
            "\u001b[K     |████████████████████████████████| 52 kB 1.2 MB/s \n",
            "\u001b[K     |████████████████████████████████| 38.1 MB 1.3 MB/s \n",
            "\u001b[K     |████████████████████████████████| 229 kB 44.4 MB/s \n",
            "\u001b[K     |████████████████████████████████| 43 kB 1.7 MB/s \n",
            "\u001b[K     |████████████████████████████████| 243 kB 44.5 MB/s \n",
            "\u001b[K     |████████████████████████████████| 1.6 MB 53.9 MB/s \n",
            "\u001b[K     |████████████████████████████████| 109 kB 56.5 MB/s \n",
            "\u001b[K     |████████████████████████████████| 546 kB 41.6 MB/s \n",
            "\u001b[?25h  Building wheel for lark (setup.py) ... \u001b[?25l\u001b[?25hdone\n",
            "  Building wheel for retrying (setup.py) ... \u001b[?25l\u001b[?25hdone\n",
            "  Building wheel for rpcq (setup.py) ... \u001b[?25l\u001b[?25hdone\n",
            "\u001b[31mERROR: pip's dependency resolver does not currently take into account all the packages that are installed. This behaviour is the source of the following dependency conflicts.\n",
            "tensorflow 2.8.0 requires tf-estimator-nightly==2.8.0.dev2021122109, which is not installed.\n",
            "markdown 3.3.6 requires importlib-metadata>=4.4; python_version < \"3.10\", but you have importlib-metadata 3.10.1 which is incompatible.\n",
            "google-colab 1.0.0 requires six~=1.15.0, but you have six 1.16.0 which is incompatible.\n",
            "datascience 0.10.6 requires folium==0.2.1, but you have folium 0.8.3 which is incompatible.\n",
            "albumentations 0.1.12 requires imgaug<0.2.7,>=0.2.5, but you have imgaug 0.2.9 which is incompatible.\u001b[0m\n",
            "installed cirq.\n"
          ]
        }
      ],
      "source": [
        "try:\n",
        "    import cirq\n",
        "except ImportError:\n",
        "    print(\"installing cirq...\")\n",
        "    %pip install --quiet cirq\n",
        "    print(\"installed cirq.\")"
      ]
    },
    {
      "cell_type": "markdown",
      "source": [
        "## Create and Run a Simple Circuit"
      ],
      "metadata": {
        "id": "Hp6yLDDYl3Vt"
      }
    },
    {
      "cell_type": "code",
      "source": [
        "import cirq\n",
        "\n",
        "# Create a qubit\n",
        "qubit = cirq.GridQubit(0, 0)\n",
        "\n",
        "# Create a circuit which calculates the square root of NOT, then measure\n",
        "circuit = cirq.Circuit(\n",
        "  cirq.X(qubit) ** 0.5, cirq.measure(qubit, key='m')  \n",
        ")\n",
        "print(\"Circuit:\")\n",
        "print(circuit)\n",
        "\n",
        "# Simulate the circuit 10 times\n",
        "simulator = cirq.Simulator()\n",
        "result = simulator.run(circuit, repetitions=10)\n",
        "print(\"Results:\")\n",
        "print(result)\n"
      ],
      "metadata": {
        "colab": {
          "base_uri": "https://localhost:8080/"
        },
        "id": "tUPMOZy5kx9Z",
        "outputId": "80cf0c52-2239-4ecd-fe74-2be70950d55a"
      },
      "execution_count": 3,
      "outputs": [
        {
          "output_type": "stream",
          "name": "stdout",
          "text": [
            "Circuit:\n",
            "(0, 0): ───X^0.5───M('m')───\n",
            "Results:\n",
            "m=0101001001\n"
          ]
        }
      ]
    },
    {
      "cell_type": "markdown",
      "source": [
        "## Run and Plot"
      ],
      "metadata": {
        "id": "VjXhqiDy3AfX"
      }
    },
    {
      "cell_type": "code",
      "source": [
        "import matplotlib.pyplot as plt\n",
        "\n",
        "# Create a qubit\n",
        "qubit = cirq.GridQubit(0, 0)\n",
        "\n",
        "# Create a circuit which calculates the square root of NOT, then measure\n",
        "circuit = cirq.Circuit(\n",
        "  cirq.X(qubit) ** 0.5, cirq.measure(qubit, key='m')  \n",
        ")\n",
        "print(\"Circuit:\")\n",
        "print(circuit)\n",
        "\n",
        "# Simulate the circuit 100 times\n",
        "result = cirq.Simulator().run(circuit, repetitions=100)\n",
        "_ = cirq.vis.plot_state_histogram(result, plt.subplot())\n"
      ],
      "metadata": {
        "colab": {
          "base_uri": "https://localhost:8080/",
          "height": 330
        },
        "id": "xCx0xctn3DKQ",
        "outputId": "241d1f5c-5476-45ed-d131-3200c479475b"
      },
      "execution_count": 4,
      "outputs": [
        {
          "output_type": "stream",
          "name": "stdout",
          "text": [
            "Circuit:\n",
            "(0, 0): ───X^0.5───M('m')───\n"
          ]
        },
        {
          "output_type": "display_data",
          "data": {
            "text/plain": [
              "<Figure size 432x288 with 1 Axes>"
            ],
            "image/png": "[encoded data removed]"
          },
          "metadata": {
            "needs_background": "light"
          }
        }
      ]
    },
    {
      "cell_type": "markdown",
      "source": [
        "## Use Gates"
      ],
      "metadata": {
        "id": "wmHg6ZfV4vK3"
      }
    },
    {
      "cell_type": "code",
      "source": [
        "# Define three qubits\n",
        "a = cirq.NamedQubit(\"a\")\n",
        "b = cirq.NamedQubit(\"b\")\n",
        "c = cirq.NamedQubit(\"c\")\n",
        "m = cirq.NamedQubit(\"m\")\n",
        "\n",
        "# Define operations\n",
        "ops = [cirq.H(a), cirq.H(b), cirq.CNOT(b,c), cirq.H(b),cirq.measure(b)]\n",
        "\n",
        "# Create and Print circuit\n",
        "circuit = cirq.Circuit(ops) \n",
        "print(\"Circuit:\\n\")\n",
        "print(circuit) \n",
        "\n",
        "# Simulate the circuit 100 times\n",
        "result = cirq.Simulator().run(circuit, repetitions=100)\n",
        "_ = cirq.vis.plot_state_histogram(result, plt.subplot())\n"
      ],
      "metadata": {
        "colab": {
          "base_uri": "https://localhost:8080/",
          "height": 420
        },
        "id": "cJHw-zrQ4yVw",
        "outputId": "f7226128-1007-4fd3-8dad-621e77629d6c"
      },
      "execution_count": 5,
      "outputs": [
        {
          "output_type": "stream",
          "name": "stdout",
          "text": [
            "Circuit:\n",
            "\n",
            "a: ───H───────────────\n",
            "\n",
            "b: ───H───@───H───M───\n",
            "          │\n",
            "c: ───────X───────────\n"
          ]
        },
        {
          "output_type": "display_data",
          "data": {
            "text/plain": [
              "<Figure size 432x288 with 1 Axes>"
            ],
            "image/png": "[encoded data removed]"
          },
          "metadata": {
            "needs_background": "light"
          }
        }
      ]
    }
  ],
  "metadata": {
    "colab": {
      "collapsed_sections": [],
      "name": "basics_lynn.ipynb",
      "provenance": []
    },
    "kernelspec": {
      "display_name": "Python 3",
      "name": "python3"
    }
  },
  "nbformat": 4,
  "nbformat_minor": 0
}